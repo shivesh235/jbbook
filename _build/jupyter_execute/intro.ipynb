{
 "cells": [
  {
   "cell_type": "markdown",
   "id": "123eb6da-471f-4f29-a9f8-bd531fd716f8",
   "metadata": {},
   "source": [
    "# Welcome\n",
    "\n",
    "<h1 style=\"text-align: center;\">Shivesh Singh</h1>\n",
    "<h2 style=\"text-align: center;\">Machine Learning Researcher</h2>\n",
    "\n",
    "--- \n",
    "\n",
    "As a passionate **Machine Learning Engineer and Researcher**, I specialize in developing innovative AI-driven solutions that bridge the gap between research and real-world applications. With a strong academic foundation from **IIT Mandi**, where I am pursuing an **M.Tech by Research in Machine Learning** (expected graduation: May 2025), I have cultivated expertise in **deep learning**, **generative AI**, and **spatiotemporal modeling**.  \n",
    "\n",
    "My work spans diverse domains, including:  \n",
    "- Building **Graph Neural Networks** and **ConvLSTMs** for spatiotemporal forecasting of ecological and population data.  \n",
    "- Implementing **cutting-edge generative models** like VAEs, GANs, and WGAN-GP for applications in facial image manipulation and synthetic data generation.  \n",
    "- Leading a **4th place-winning team** in the **DCASE Challenge 2024**, where I developed state-of-the-art models for environmental sound scene synthesis.  \n",
    "- Designing intuitive **Web UIs** for creative AI applications, such as music generation using facial attributes and image analysis.  \n",
    "\n",
    "I am adept at leveraging tools like **Google Earth Engine**, **PyTorch**, and **TensorFlow**, alongside my knowledge in **probability**, **matrix theory**, and **pattern recognition**, to solve complex challenges. My research focus on **large language models (LLMs)** and their intersection with **spatial data analysis** reflects my commitment to pushing the boundaries of AI innovation.  \n",
    "\n",
    "I am seeking roles that align with my passion for **applied AI, deep learning, and generative models**, where I can contribute to impactful projects while continuing to grow and innovate in the field of machine learning.  \n",
    "\n",
    "Let’s connect and explore how I can add value to your team!\n",
    "\n",
    "### **Core Expertise**\n",
    "- Proficient in Python, SQL, TensorFlow, PyTorch, and scikit-learn.\n",
    "- Experienced in remote sensing analysis and spatiotemporal data forecasting.\n",
    "- Knowledgeable in machine learning frameworks for generative AI, computer vision, and large language models (LLMs).\n",
    "\n",
    "### **Technical Interests**\n",
    "- **Data Science:** Exploring patterns and insights from diverse datasets.\n",
    "- **Computer Vision:** Developing models for image classification, object detection, and segmentation.\n",
    "- **Large Language Models (LLMs):** Harnessing NLP for conversational AI and automation.\n",
    "- **Generative AI:** Working with VAE, GAN, and WGAN-GP models for creative AI tasks.\n",
    "\n",
    "---\n",
    "\n",
    "<div style=\"display: flex; align-items: center; justify-content: center; margin-bottom: 20px;\">\n",
    "\n",
    "<a href=\"mailto:shivesh235@example.com\" style=\"display: flex; align-items: center; text-decoration: none; margin-right: 10px;\">\n",
    "    <img src=\"https://upload.wikimedia.org/wikipedia/commons/7/7e/Gmail_icon_%282020%29.svg\" alt=\"Email\" width=\"20\" style=\"margin-right: 0.5rem;\">shivesh235@gmail.com\n",
    "</a>\n",
    "\n",
    "<a href=\"https://www.linkedin.com/in/shivesh235\" style=\"display: flex; align-items: center; text-decoration: none; margin-right: 10px;\">\n",
    "    <img src=\"https://upload.wikimedia.org/wikipedia/commons/c/ca/LinkedIn_logo_initials.png\" alt=\"LinkedIn\" width=\"20\" style=\"margin-right: 0.5rem;\">/in/shivesh235\n",
    "</a>\n",
    "\n",
    "<a href=\"https://github.com/shivesh235\" style=\"display: flex; align-items: center; text-decoration: none;\">\n",
    "    <img src=\"https://github.githubassets.com/images/modules/logos_page/GitHub-Mark.png\" alt=\"Github\" width=\"20\" style=\"margin-right: 0.5rem;\">shivesh235\n",
    "</a>\n",
    "\n",
    "</div>\n",
    "\n",
    "---\n",
    "\n",
    "Feel free to explore my [projects](#), skills, and experiences below.\n",
    "\n",
    "```{tableofcontents}\n",
    "```\n",
    "\n",
    "---\n"
   ]
  },
  {
   "cell_type": "markdown",
   "id": "e7190773",
   "metadata": {},
   "source": []
  }
 ],
 "metadata": {
  "kernelspec": {
   "display_name": "Python 3 (ipykernel)",
   "language": "python",
   "name": "python3"
  },
  "language_info": {
   "codemirror_mode": {
    "name": "ipython",
    "version": 3
   },
   "file_extension": ".py",
   "mimetype": "text/x-python",
   "name": "python",
   "nbconvert_exporter": "python",
   "pygments_lexer": "ipython3",
   "version": "3.10.14"
  }
 },
 "nbformat": 4,
 "nbformat_minor": 5
}