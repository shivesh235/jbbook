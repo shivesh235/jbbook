{
 "cells": [
  {
   "cell_type": "markdown",
   "id": "d5a76c38-e4e3-46f3-bb43-a6dc13d2ffd9",
   "metadata": {},
   "source": [
    "# Titanic - Machine Learning from Disaster \n",
    "\n",
    "In this project, we will explore the Titanic dataset provided by Kaggle as part of the \"Titanic - Machine Learning from Disaster\" competition. The goal of this competition is to build a predictive model that can accurately classify whether a passenger survived or not based on various features such as age, gender, class, and fare.\n",
    "\n",
    "The Titanic sank on April 15, 1912, after hitting an iceberg during its maiden voyage from Southampton to New York City. Of the 2,224 passengers and crew on board, more than 1,500 lost their lives, making it one of the deadliest maritime disasters in history. The dataset contains information about the passengers, including demographics and socio-economic status, which we will use to train our machine learning model.\n",
    "\n",
    "In this notebook, we will follow an end-to-end data science workflow that includes:\n",
    "\n",
    "1. **Data Exploration**: Analyzing the dataset to understand its structure, identify missing values, and visualize key features.\n",
    "2. **Data Preprocessing**: Cleaning the data by handling missing values, encoding categorical variables, and scaling numerical features.\n",
    "3. **Model Building**: Creating and training machine learning models to predict survival.\n",
    "4. **Model Evaluation**: Evaluating the performance of the models using appropriate metrics and techniques.\n",
    "5. **Submission Preparation**: Preparing the final predictions for submission to the Kaggle competition.\n",
    "\n",
    "Let's get started by loading the necessary libraries and the Titanic dataset!\n"
   ]
  },
  {
   "cell_type": "code",
   "execution_count": 1,
   "id": "e6a988ec-8fd3-4686-b6ab-70522e11e19a",
   "metadata": {},
   "outputs": [],
   "source": [
    "# data analysis and wrangling\n",
    "import pandas as pd\n",
    "import numpy as np\n",
    "import random as rnd\n",
    "\n",
    "# visualization\n",
    "import seaborn as sns\n",
    "import matplotlib.pyplot as plt\n",
    "%matplotlib inline\n",
    "\n",
    "# machine learning\n",
    "from sklearn.linear_model import LogisticRegression\n",
    "from sklearn.svm import SVC, LinearSVC\n",
    "from sklearn.ensemble import RandomForestClassifier\n",
    "from sklearn.neighbors import KNeighborsClassifier\n",
    "from sklearn.naive_bayes import GaussianNB\n",
    "from sklearn.linear_model import Perceptron\n",
    "from sklearn.linear_model import SGDClassifier\n",
    "from sklearn.tree import DecisionTreeClassifier"
   ]
  },
  {
   "cell_type": "code",
   "execution_count": 2,
   "id": "2153df1a-2509-4ff9-938c-977d3df4a252",
   "metadata": {},
   "outputs": [
    {
     "name": "stdout",
     "output_type": "stream",
     "text": [
      "Requirement already satisfied: kaggle in /home/sie/miniconda3/envs/env1/lib/python3.10/site-packages (1.6.17)\r\n",
      "Requirement already satisfied: seaborn in /home/sie/miniconda3/envs/env1/lib/python3.10/site-packages (0.13.2)\r\n",
      "Requirement already satisfied: six>=1.10 in /home/sie/miniconda3/envs/env1/lib/python3.10/site-packages (from kaggle) (1.16.0)\r\n",
      "Requirement already satisfied: certifi>=2023.7.22 in /home/sie/miniconda3/envs/env1/lib/python3.10/site-packages (from kaggle) (2024.7.4)\r\n",
      "Requirement already satisfied: python-dateutil in /home/sie/miniconda3/envs/env1/lib/python3.10/site-packages (from kaggle) (2.9.0.post0)\r\n",
      "Requirement already satisfied: requests in /home/sie/miniconda3/envs/env1/lib/python3.10/site-packages (from kaggle) (2.32.3)\r\n",
      "Requirement already satisfied: tqdm in /home/sie/miniconda3/envs/env1/lib/python3.10/site-packages (from kaggle) (4.66.5)\r\n",
      "Requirement already satisfied: python-slugify in /home/sie/miniconda3/envs/env1/lib/python3.10/site-packages (from kaggle) (8.0.4)\r\n",
      "Requirement already satisfied: urllib3 in /home/sie/miniconda3/envs/env1/lib/python3.10/site-packages (from kaggle) (2.2.2)\r\n",
      "Requirement already satisfied: bleach in /home/sie/miniconda3/envs/env1/lib/python3.10/site-packages (from kaggle) (4.1.0)\r\n"
     ]
    },
    {
     "name": "stdout",
     "output_type": "stream",
     "text": [
      "Requirement already satisfied: numpy!=1.24.0,>=1.20 in /home/sie/miniconda3/envs/env1/lib/python3.10/site-packages (from seaborn) (1.26.4)\r\n",
      "Requirement already satisfied: pandas>=1.2 in /home/sie/miniconda3/envs/env1/lib/python3.10/site-packages (from seaborn) (2.2.2)\r\n",
      "Requirement already satisfied: matplotlib!=3.6.1,>=3.4 in /home/sie/miniconda3/envs/env1/lib/python3.10/site-packages (from seaborn) (3.8.4)\r\n"
     ]
    },
    {
     "name": "stdout",
     "output_type": "stream",
     "text": [
      "Requirement already satisfied: contourpy>=1.0.1 in /home/sie/miniconda3/envs/env1/lib/python3.10/site-packages (from matplotlib!=3.6.1,>=3.4->seaborn) (1.2.0)\r\n",
      "Requirement already satisfied: cycler>=0.10 in /home/sie/miniconda3/envs/env1/lib/python3.10/site-packages (from matplotlib!=3.6.1,>=3.4->seaborn) (0.11.0)\r\n",
      "Requirement already satisfied: fonttools>=4.22.0 in /home/sie/miniconda3/envs/env1/lib/python3.10/site-packages (from matplotlib!=3.6.1,>=3.4->seaborn) (4.51.0)\r\n",
      "Requirement already satisfied: kiwisolver>=1.3.1 in /home/sie/miniconda3/envs/env1/lib/python3.10/site-packages (from matplotlib!=3.6.1,>=3.4->seaborn) (1.4.4)\r\n",
      "Requirement already satisfied: packaging>=20.0 in /home/sie/miniconda3/envs/env1/lib/python3.10/site-packages (from matplotlib!=3.6.1,>=3.4->seaborn) (24.1)\r\n",
      "Requirement already satisfied: pillow>=8 in /home/sie/miniconda3/envs/env1/lib/python3.10/site-packages (from matplotlib!=3.6.1,>=3.4->seaborn) (10.4.0)\r\n",
      "Requirement already satisfied: pyparsing>=2.3.1 in /home/sie/miniconda3/envs/env1/lib/python3.10/site-packages (from matplotlib!=3.6.1,>=3.4->seaborn) (3.0.9)\r\n"
     ]
    },
    {
     "name": "stdout",
     "output_type": "stream",
     "text": [
      "Requirement already satisfied: pytz>=2020.1 in /home/sie/miniconda3/envs/env1/lib/python3.10/site-packages (from pandas>=1.2->seaborn) (2024.1)\r\n",
      "Requirement already satisfied: tzdata>=2022.7 in /home/sie/miniconda3/envs/env1/lib/python3.10/site-packages (from pandas>=1.2->seaborn) (2023.3)\r\n"
     ]
    },
    {
     "name": "stdout",
     "output_type": "stream",
     "text": [
      "Requirement already satisfied: webencodings in /home/sie/miniconda3/envs/env1/lib/python3.10/site-packages (from bleach->kaggle) (0.5.1)\r\n",
      "Requirement already satisfied: text-unidecode>=1.3 in /home/sie/miniconda3/envs/env1/lib/python3.10/site-packages (from python-slugify->kaggle) (1.3)\r\n"
     ]
    },
    {
     "name": "stdout",
     "output_type": "stream",
     "text": [
      "Requirement already satisfied: charset-normalizer<4,>=2 in /home/sie/miniconda3/envs/env1/lib/python3.10/site-packages (from requests->kaggle) (3.3.2)\r\n",
      "Requirement already satisfied: idna<4,>=2.5 in /home/sie/miniconda3/envs/env1/lib/python3.10/site-packages (from requests->kaggle) (3.7)\r\n"
     ]
    }
   ],
   "source": [
    "!pip install kaggle seaborn"
   ]
  },
  {
   "cell_type": "code",
   "execution_count": null,
   "id": "e047a147-dd12-4f56-adf9-6b60c88b3f1a",
   "metadata": {},
   "outputs": [],
   "source": []
  },
  {
   "cell_type": "code",
   "execution_count": null,
   "id": "27320500-e352-4c14-9639-5104853a4769",
   "metadata": {},
   "outputs": [],
   "source": []
  }
 ],
 "metadata": {
  "kernelspec": {
   "display_name": "Python 3 (ipykernel)",
   "language": "python",
   "name": "python3"
  },
  "language_info": {
   "codemirror_mode": {
    "name": "ipython",
    "version": 3
   },
   "file_extension": ".py",
   "mimetype": "text/x-python",
   "name": "python",
   "nbconvert_exporter": "python",
   "pygments_lexer": "ipython3",
   "version": "3.10.14"
  }
 },
 "nbformat": 4,
 "nbformat_minor": 5
}