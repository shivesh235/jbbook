{
 "cells": [
  {
   "cell_type": "markdown",
   "metadata": {},
   "source": [
    "# Education & Experiences"
   ]
  },
  {
   "cell_type": "markdown",
   "metadata": {},
   "source": [
    "## Education\n",
    "\n",
    "---"
   ]
  },
  {
   "cell_type": "markdown",
   "metadata": {},
   "source": [
    "**M.Tech (by Research) in Machine Learning**\n",
    "\n",
    "IIT Mandi &nbsp;&nbsp; | &nbsp;&nbsp; 2023 - 2025\n",
    "\n",
    "- Pattern Recognition, Matrix Theory, Probability and Random Processes, Deep Learning and Application"
   ]
  },
  {
   "cell_type": "markdown",
   "metadata": {},
   "source": [
    "**Bachelor of Technology in Computer Science**\n",
    "\n",
    "REC Kannauj &nbsp;&nbsp; | &nbsp;&nbsp; 2019 - 2023\n",
    "\n",
    "- Data Structures and Algorithms, Database Management System, Computer Networks, Web Technology, Theory of Computation, Machine Learning, Deep Learning, Artificial Intelligence"
   ]
  },
  {
   "cell_type": "markdown",
   "metadata": {},
   "source": [
    "## Internships\n",
    "\n",
    "---"
   ]
  },
  {
   "cell_type": "markdown",
   "metadata": {},
   "source": [
    "**Data Science Intern**\n",
    "\n",
    "June 2022 -- August 2022\n",
    "\n",
    "Aspirevision Tech Education\n",
    "\n",
    "- Applied machine learning and deep learning concepts to real-life customer datasets, creating interactive dashboards and visualizations of sales and profit data using Python libraries such as Scikit-Learn, Pandas, Matplotlib, and TensorFlow.\n",
    "- Developed and implemented analysis tools to enhance data-driven decision-making, translating theoretical knowledge into practical solutions for business insights."
   ]
  },
  {
   "cell_type": "markdown",
   "metadata": {},
   "source": [
    "## Skills\n",
    "\n",
    "---"
   ]
  },
  {
   "cell_type": "markdown",
   "metadata": {},
   "source": [
    "- Neural Networks\n",
    "- Natural Language Processing (NLP)\n",
    "- Computer Vision\n",
    "- LLM's\n",
    "- Generative AI\n",
    "- Remote Sensing"
   ]
  },
  {
   "cell_type": "code",
   "execution_count": 1,
   "metadata": {},
   "outputs": [
    {
     "ename": "SyntaxError",
     "evalue": "invalid character '’' (U+2019) (2604905272.py, line 1)",
     "output_type": "error",
     "traceback": [
      "\u001b[0;36m  Cell \u001b[0;32mIn[1], line 1\u001b[0;36m\u001b[0m\n\u001b[0;31m    Here’s an improved version of your portfolio's introduction, styled to align with professional norms while keeping it concise and visually appealing. The improvements focus on refining language, structuring content more clearly, and enhancing readability.\u001b[0m\n\u001b[0m        ^\u001b[0m\n\u001b[0;31mSyntaxError\u001b[0m\u001b[0;31m:\u001b[0m invalid character '’' (U+2019)\n"
     ]
    }
   ],
   "source": [
    "Here’s an improved version of your portfolio's introduction, styled to align with professional norms while keeping it concise and visually appealing. The improvements focus on refining language, structuring content more clearly, and enhancing readability.\n",
    "\n",
    "---\n",
    "\n",
    "## Welcome\n",
    "\n",
    "<h1 style=\"text-align: center;\">Shivesh Singh</h1>\n",
    "<h2 style=\"text-align: center;\">Machine Learning Researcher</h2>\n",
    "\n",
    "---\n",
    "\n",
    "I am a passionate machine learning and data science researcher currently pursuing a Master's in Machine Learning. With a strong foundation in essential tools and concepts, I specialize in generative modeling, classification, time series forecasting, and data preprocessing. My goal is to use data-driven approaches to address real-world challenges, contributing to impactful projects in machine learning and beyond.\n",
    "\n",
    "### **Core Expertise**\n",
    "- Proficient in Python, SQL, TensorFlow, PyTorch, and scikit-learn.\n",
    "- Experienced in remote sensing analysis and spatiotemporal data forecasting.\n",
    "- Knowledgeable in machine learning frameworks for generative AI, computer vision, and large language models (LLMs).\n",
    "\n",
    "### **Technical Interests**\n",
    "- **Data Science:** Exploring patterns and insights from diverse datasets.\n",
    "- **Computer Vision:** Developing models for image classification, object detection, and segmentation.\n",
    "- **Large Language Models (LLMs):** Harnessing NLP for conversational AI and automation.\n",
    "- **Generative AI:** Working with VAE, GAN, and WGAN-GP models for creative AI tasks.\n",
    "- **Remote Sensing:** Analyzing satellite data for environmental and ecological research.\n",
    "\n",
    "---\n",
    "\n",
    "<div style=\"display: flex; align-items: center; justify-content: center; margin-bottom: 20px;\">\n",
    "\n",
    "<a href=\"mailto:shivesh235@example.com\" style=\"display: flex; align-items: center; text-decoration: none; margin-right: 10px;\">\n",
    "    <img src=\"https://upload.wikimedia.org/wikipedia/commons/7/7e/Gmail_icon_%282020%29.svg\" alt=\"Email\" width=\"20\" style=\"margin-right: 0.5rem;\">shivesh235@gmail.com\n",
    "</a>\n",
    "\n",
    "<a href=\"https://www.linkedin.com/in/shivesh235\" style=\"display: flex; align-items: center; text-decoration: none; margin-right: 10px;\">\n",
    "    <img src=\"https://upload.wikimedia.org/wikipedia/commons/c/ca/LinkedIn_logo_initials.png\" alt=\"LinkedIn\" width=\"20\" style=\"margin-right: 0.5rem;\">/in/shivesh235\n",
    "</a>\n",
    "\n",
    "<a href=\"https://github.com/shivesh235\" style=\"display: flex; align-items: center; text-decoration: none;\">\n",
    "    <img src=\"https://github.githubassets.com/images/modules/logos_page/GitHub-Mark.png\" alt=\"Github\" width=\"20\" style=\"margin-right: 0.5rem;\">shivesh235\n",
    "</a>\n",
    "\n",
    "</div>\n",
    "\n",
    "---\n",
    "\n",
    "Feel free to explore my [projects](#), skills, and experiences below.\n",
    "\n",
    "```{tableofcontents}\n",
    "```\n",
    "\n",
    "---\n",
    "\n",
    "### **Suggestions for Improvements:**\n",
    "\n",
    "1. **Clarity and Conciseness:** Refine your personal introduction to make it direct and impactful. Highlight key skills and research areas succinctly.\n",
    "2. **Consistency in Design:** Use consistent icon sizes for the contact section (email, LinkedIn, GitHub) to improve visual balance.\n",
    "3. **Text Alignment:** Center-align key titles (e.g., your name, role) to make them stand out more prominently.\n",
    "4. **Core Expertise Section:** Separate technical skills and experience to emphasize your abilities.\n",
    "5. **Use of Professional Language:** The wording is more formal and focused on outcomes, which aligns with professional norms.\n",
    "6. **Call-to-Action:** Direct users to explore your projects and experiences with a clear link, making navigation smoother.\n",
    "\n",
    "This updated structure provides a clean, professional, and visually balanced presentation. You can further customize it by adding links to project sections and embedding interactive notebooks."
   ]
  }
 ],
 "metadata": {
  "kernelspec": {
   "display_name": "Python 3 (ipykernel)",
   "language": "python",
   "name": "python3"
  },
  "language_info": {
   "codemirror_mode": {
    "name": "ipython",
    "version": 3
   },
   "file_extension": ".py",
   "mimetype": "text/x-python",
   "name": "python",
   "nbconvert_exporter": "python",
   "pygments_lexer": "ipython3",
   "version": "3.10.14"
  }
 },
 "nbformat": 4,
 "nbformat_minor": 4
}