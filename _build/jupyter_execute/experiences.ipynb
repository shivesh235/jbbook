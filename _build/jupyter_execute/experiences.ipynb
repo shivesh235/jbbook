{
 "cells": [
  {
   "cell_type": "markdown",
   "metadata": {},
   "source": [
    "# Education & Experiences"
   ]
  },
  {
   "cell_type": "markdown",
   "metadata": {},
   "source": [
    "## Education\n",
    "\n",
    "---"
   ]
  },
  {
   "cell_type": "markdown",
   "metadata": {},
   "source": [
    "**M.Tech (by Research) in Machine Learning**\n",
    "\n",
    "IIT Mandi &nbsp;&nbsp; | &nbsp;&nbsp; 2023 - 2025\n",
    "\n",
    "- Pattern Recognition, Matrix Theory, Probability and Random Processes, Deep Learning and Application"
   ]
  },
  {
   "cell_type": "markdown",
   "metadata": {},
   "source": [
    "**Bachelor of Technology in Computer Science**\n",
    "\n",
    "REC Kannauj &nbsp;&nbsp; | &nbsp;&nbsp; 2019 - 2023\n",
    "\n",
    "- Data Structures and Algorithms, Database Management System, Computer Networks, Web Technology, Theory of Computation, Machine Learning, Deep Learning, Artificial Intelligence"
   ]
  },
  {
   "cell_type": "markdown",
   "metadata": {},
   "source": [
    "## Internships\n",
    "\n",
    "---"
   ]
  },
  {
   "cell_type": "markdown",
   "metadata": {},
   "source": [
    "**Data Science Intern**\n",
    "\n",
    "June 2022 -- August 2022\n",
    "\n",
    "Aspirevision Tech Education\n",
    "\n",
    "- Applied machine learning and deep learning concepts to real-life customer datasets, creating interactive dashboards and visualizations of sales and profit data using Python libraries such as Scikit-Learn, Pandas, Matplotlib, and TensorFlow.\n",
    "- Developed and implemented analysis tools to enhance data-driven decision-making, translating theoretical knowledge into practical solutions for business insights."
   ]
  },
  {
   "cell_type": "markdown",
   "metadata": {},
   "source": [
    "## Skills\n",
    "\n",
    "---"
   ]
  },
  {
   "cell_type": "markdown",
   "metadata": {},
   "source": [
    "- Neural Networks\n",
    "- Natural Language Processing (NLP)\n",
    "- Computer Vision\n",
    "- LLM's\n",
    "- Generative AI\n",
    "- Remote Sensing"
   ]
  }
 ],
 "metadata": {
  "kernelspec": {
   "display_name": "Python 3 (ipykernel)",
   "language": "python",
   "name": "python3"
  },
  "language_info": {
   "codemirror_mode": {
    "name": "ipython",
    "version": 3
   },
   "file_extension": ".py",
   "mimetype": "text/x-python",
   "name": "python",
   "nbconvert_exporter": "python",
   "pygments_lexer": "ipython3",
   "version": "3.10.14"
  }
 },
 "nbformat": 4,
 "nbformat_minor": 4
}