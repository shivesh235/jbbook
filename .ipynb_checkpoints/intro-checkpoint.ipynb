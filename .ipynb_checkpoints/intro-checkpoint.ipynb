{
 "cells": [
  {
   "cell_type": "markdown",
   "id": "123eb6da-471f-4f29-a9f8-bd531fd716f8",
   "metadata": {},
   "source": [
    "# Welcome\n",
    "\n",
    "<h1 style=\"text-align: center;\">Shivesh Singh</h1>\n",
    "<h2 style=\"text-align: center;\">Machine Learning Researcher</h2>\n",
    "\n",
    "---\n",
    "\n",
    "I am a passionate machine learning and data science researcher currently pursuing a Master's in Machine Learning. With a strong foundation in essential tools and concepts, I specialize in generative modeling, classification, time series forecasting, and data preprocessing. My goal is to use data-driven approaches to address real-world challenges, contributing to impactful projects in machine learning and beyond.\n",
    "\n",
    "### **Core Expertise**\n",
    "- Proficient in Python, SQL, TensorFlow, PyTorch, and scikit-learn.\n",
    "- Experienced in remote sensing analysis and spatiotemporal data forecasting.\n",
    "- Knowledgeable in machine learning frameworks for generative AI, computer vision, and large language models (LLMs).\n",
    "\n",
    "### **Technical Interests**\n",
    "- **Data Science:** Exploring patterns and insights from diverse datasets.\n",
    "- **Computer Vision:** Developing models for image classification, object detection, and segmentation.\n",
    "- **Large Language Models (LLMs):** Harnessing NLP for conversational AI and automation.\n",
    "- **Generative AI:** Working with VAE, GAN, and WGAN-GP models for creative AI tasks.\n",
    "- **Remote Sensing:** Analyzing satellite data for environmental and ecological research.\n",
    "\n",
    "---\n",
    "\n",
    "<div style=\"display: flex; align-items: center; justify-content: center; margin-bottom: 20px;\">\n",
    "\n",
    "<a href=\"mailto:shivesh235@example.com\" style=\"display: flex; align-items: center; text-decoration: none; margin-right: 10px;\">\n",
    "    <img src=\"https://upload.wikimedia.org/wikipedia/commons/7/7e/Gmail_icon_%282020%29.svg\" alt=\"Email\" width=\"20\" style=\"margin-right: 0.5rem;\">shivesh235@gmail.com\n",
    "</a>\n",
    "\n",
    "<a href=\"https://www.linkedin.com/in/shivesh235\" style=\"display: flex; align-items: center; text-decoration: none; margin-right: 10px;\">\n",
    "    <img src=\"https://upload.wikimedia.org/wikipedia/commons/c/ca/LinkedIn_logo_initials.png\" alt=\"LinkedIn\" width=\"20\" style=\"margin-right: 0.5rem;\">/in/shivesh235\n",
    "</a>\n",
    "\n",
    "<a href=\"https://github.com/shivesh235\" style=\"display: flex; align-items: center; text-decoration: none;\">\n",
    "    <img src=\"https://github.githubassets.com/images/modules/logos_page/GitHub-Mark.png\" alt=\"Github\" width=\"20\" style=\"margin-right: 0.5rem;\">shivesh235\n",
    "</a>\n",
    "\n",
    "</div>\n",
    "\n",
    "---\n",
    "\n",
    "Feel free to explore my [projects](#), skills, and experiences below.\n",
    "\n",
    "```{tableofcontents}\n",
    "```\n",
    "\n",
    "---\n"
   ]
  },
  {
   "cell_type": "code",
   "execution_count": null,
   "id": "250d998f-1466-4b0b-b86c-421d8ce3b593",
   "metadata": {},
   "outputs": [],
   "source": []
  }
 ],
 "metadata": {
  "kernelspec": {
   "display_name": "Python 3 (ipykernel)",
   "language": "python",
   "name": "python3"
  },
  "language_info": {
   "codemirror_mode": {
    "name": "ipython",
    "version": 3
   },
   "file_extension": ".py",
   "mimetype": "text/x-python",
   "name": "python",
   "nbconvert_exporter": "python",
   "pygments_lexer": "ipython3",
   "version": "3.10.14"
  }
 },
 "nbformat": 4,
 "nbformat_minor": 5
}
